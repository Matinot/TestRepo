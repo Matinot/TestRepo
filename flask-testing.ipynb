{
 "cells": [
  {
   "cell_type": "code",
   "execution_count": null,
   "id": "a2021226",
   "metadata": {},
   "outputs": [],
   "source": [
    "from flask import Flask\n",
    "from threading import Thread\n",
    "\n",
    "app = Flask(__name__)\n",
    "\n",
    "@app.route(\"/\")\n",
    "def home():\n",
    "    return \"Hello from Flask running in Jupyter!\"\n",
    "\n",
    "def run():\n",
    "    app.run(port=5000, debug=False, use_reloader=False)\n",
    "\n",
    "# Start Flask in a thread\n",
    "Thread(target=run).start()\n"
   ]
  },
  {
   "cell_type": "code",
   "execution_count": null,
   "id": "e313f0af",
   "metadata": {},
   "outputs": [],
   "source": []
  }
 ],
 "metadata": {
  "kernelspec": {
   "display_name": "Python 3",
   "language": "python",
   "name": "python3"
  },
  "language_info": {
   "codemirror_mode": {
    "name": "ipython",
    "version": 3
   },
   "file_extension": ".py",
   "mimetype": "text/x-python",
   "name": "python",
   "nbconvert_exporter": "python",
   "pygments_lexer": "ipython3",
   "version": "3.13.5"
  }
 },
 "nbformat": 4,
 "nbformat_minor": 5
}
